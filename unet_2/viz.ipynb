{
 "cells": [
  {
   "cell_type": "code",
   "execution_count": null,
   "metadata": {},
   "outputs": [],
   "source": [
    "from torchview import draw_graph\n",
    "from dataset import UNetDataModule\n",
    "from config import Config, CONFIG_FILE_PATH\n",
    "from model import UNetLightning\n",
    "\n",
    "def load_model(ckpt_path: str, config: Config):\n",
    "    prefix = config.get('prefix', None)\n",
    "    model = UNetLightning.load_from_checkpoint(ckpt_path, strict=False)\n",
    "    data_module = UNetDataModule.load_from_checkpoint(ckpt_path, test_loaders='validation', n_workers=4, prefix=prefix)\n",
    "    return model, data_module\n",
    "\n",
    "cfg = Config(CONFIG_FILE_PATH)\n",
    "model, data_module = load_model(cfg.ckpt_path, cfg)\n",
    "data_item = next(iter(data_module.test_dataloader()))\n",
    "batch_size = cfg.batch_size\n",
    "# device='meta' -> no memory is consumed for visualization\n",
    "model_graph = draw_graph(model, input_size=data_item.size, input_data=[data_item] device='meta')\n",
    "model_graph.visual_graph"
   ]
  }
 ],
 "metadata": {
  "kernelspec": {
   "display_name": "rich",
   "language": "python",
   "name": "python3"
  },
  "language_info": {
   "name": "python",
   "version": "3.9.18"
  }
 },
 "nbformat": 4,
 "nbformat_minor": 2
}
